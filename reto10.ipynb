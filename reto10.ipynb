{
 "cells": [
  {
   "cell_type": "markdown",
   "metadata": {},
   "source": [
    "# Punto 1"
   ]
  },
  {
   "cell_type": "code",
   "execution_count": 1,
   "metadata": {},
   "outputs": [
    {
     "name": "stdout",
     "output_type": "stream",
     "text": [
      "[12, 14, 15]\n",
      "el promedio de este arreglo de lista es:\n",
      "13.666666666666666\n"
     ]
    }
   ],
   "source": [
    "lista=[]   \n",
    "x:int= int(input(\"ingresa la cantidad de elementos de la lista: \"))\n",
    "for i in range(x):\n",
    "    valor=int(input(\"Ingrese un valor entero:\"))\n",
    "    lista.append(valor)\n",
    "print(lista)\n",
    "print(\"el promedio de este arreglo de lista es:\")\n",
    "print(sum(lista)/x)\n"
   ]
  },
  {
   "cell_type": "markdown",
   "metadata": {},
   "source": [
    "# Punto 2"
   ]
  },
  {
   "cell_type": "code",
   "execution_count": 2,
   "metadata": {},
   "outputs": [
    {
     "name": "stdout",
     "output_type": "stream",
     "text": [
      "[12, 14, 15]\n",
      "[14, 16, 11]\n",
      "El producto punto de estos dos arreglos de listas es: \n",
      "557\n"
     ]
    }
   ],
   "source": [
    "lista1=[]  \n",
    "lista2=[] \n",
    "x:int= int(input(\"ingresa la cantidad de elementos de la lista: \"))\n",
    "for i in range(x):\n",
    "    valorProductopunto=int(input(\"Ingrese un valor entero perteneciente a la lista 1:\"))\n",
    "    lista1.append(valorProductopunto)\n",
    "\n",
    "for i in range(x):\n",
    "    valorProductopunto=int(input(\"Ingrese un valor entero perteneciente a la lista 2:\"))\n",
    "    lista2.append(valorProductopunto)\n",
    "\n",
    "def CalcularProductoPunto(lista1, lista2)->int:\n",
    "    ProductoPunto = 0\n",
    "    y = 0\n",
    "    for y in range(x):\n",
    "       ProductoPunto+= ((lista1[y])*(lista2[y]))\n",
    "    return ProductoPunto\n",
    "\n",
    "if __name__ == \"__main__\":\n",
    "    ProductoPunto = CalcularProductoPunto (lista1, lista2)\n",
    "\n",
    "print(lista1)\n",
    "print(lista2)\n",
    "print(\"El producto punto de estos dos arreglos de listas es: \")\n",
    "print(ProductoPunto)"
   ]
  },
  {
   "cell_type": "markdown",
   "metadata": {},
   "source": [
    "# Punto 3"
   ]
  },
  {
   "cell_type": "code",
   "execution_count": 4,
   "metadata": {},
   "outputs": [
    {
     "name": "stdout",
     "output_type": "stream",
     "text": [
      "[12, 12, 55, 12, 0, 0, 0]\n"
     ]
    }
   ],
   "source": [
    "lista1=[]   \n",
    "lista2=[]\n",
    "x:int= int(input(\"ingresa la cantidad de elementos de la lista: \"))\n",
    "for i in range(x):\n",
    "    valordelalista=int(input(\"Ingrese un valor entero:\"))\n",
    "    if valordelalista != 0:\n",
    "        lista1.append(valordelalista)\n",
    "    else:\n",
    "        lista2.append(valordelalista)\n",
    "\n",
    "Lalista = lista1 + lista2\n",
    "\n",
    "print(f\"{Lalista}\")"
   ]
  }
 ],
 "metadata": {
  "kernelspec": {
   "display_name": "Python 3",
   "language": "python",
   "name": "python3"
  },
  "language_info": {
   "codemirror_mode": {
    "name": "ipython",
    "version": 3
   },
   "file_extension": ".py",
   "mimetype": "text/x-python",
   "name": "python",
   "nbconvert_exporter": "python",
   "pygments_lexer": "ipython3",
   "version": "3.11.5"
  }
 },
 "nbformat": 4,
 "nbformat_minor": 2
}
